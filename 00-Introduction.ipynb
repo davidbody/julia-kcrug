{
 "cells": [
  {
   "cell_type": "markdown",
   "metadata": {},
   "source": [
    "<div style=\"text-align: center\">\n",
    "\n",
    "<img src=\"images/julia-logo.png\"/>\n",
    "\n",
    "# Introduction to Julia\n",
    "\n",
    "## Kansas City R Users Group\n",
    "\n",
    "### September 11, 2021\n",
    "\n",
    "#### David W. Body\n",
    "\n",
    "#### Twitter: @david_body\n",
    "\n",
    "# Looks like Python, feels like Lisp, runs like Fortran.\n",
    "\n",
    "</div>"
   ]
  },
  {
   "cell_type": "markdown",
   "metadata": {},
   "source": [
    "# Rationale for Julia\n",
    "\n",
    "From [Why We Created Julia](https://julialang.org/blog/2012/02/why-we-created-julia/) (Published in 2012. Worth reading in its entirety.)\n",
    "\n",
    "> We are greedy: we want more.\n",
    ">\n",
    "> We want a language that's open source, with a liberal license. We want the speed of C with the dynamism of Ruby. We want a language that's homoiconic, with true macros like Lisp, but with obvious, familiar mathematical notation like Matlab. We want something as usable for general programming as Python, as easy for statistics as R, as natural for string processing as Perl, as powerful for linear algebra as Matlab, as good at gluing programs together as the shell. Something that is dirt simple to learn, yet keeps the most serious hackers happy. We want it interactive and we want it compiled.\n",
    ">\n",
    "> (Did we mention it should be as fast as C?)\n"
   ]
  },
  {
   "cell_type": "markdown",
   "metadata": {},
   "source": [
    "## Riddler example: R vs Python vs Julia"
   ]
  }
 ],
 "metadata": {
  "kernelspec": {
   "display_name": "Julia 1.6.2",
   "language": "julia",
   "name": "julia-1.6"
  },
  "language_info": {
   "file_extension": ".jl",
   "mimetype": "application/julia",
   "name": "julia",
   "version": "1.6.2"
  }
 },
 "nbformat": 4,
 "nbformat_minor": 4
}
