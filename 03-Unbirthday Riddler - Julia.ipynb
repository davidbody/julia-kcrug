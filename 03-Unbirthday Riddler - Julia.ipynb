{
 "cells": [
  {
   "cell_type": "markdown",
   "metadata": {},
   "source": [
    "### Riddler Express\n",
    "\n",
    "https://fivethirtyeight.com/features/so-you-want-to-tether-your-goat-now-what/\n",
    "\n",
    "> From Luke Robinson, a serenading stumper:\n",
    "\n",
    "> My daughter really likes to hear me sing “The Unbirthday Song” from “Alice in Wonderland” to her. She also likes to sing it to other people. Obviously, the odds of my being able to sing it to her on any random day are 364 in 365, because I cannot sing it on her birthday. The question is, though, how many random people would she expect to be able to sing it to on any given day before it became more likely than not that she would encounter someone whose birthday it is? In other words, what is the expected length of her singing streak?\n",
    "\n",
    "Let's use a **Julia** simulation to calculate the approximate expected length of the singing streak."
   ]
  },
  {
   "cell_type": "code",
   "execution_count": 1,
   "metadata": {
    "tags": []
   },
   "outputs": [
    {
     "data": {
      "text/plain": [
       "do_trials (generic function with 1 method)"
      ]
     },
     "execution_count": 1,
     "metadata": {},
     "output_type": "execute_result"
    }
   ],
   "source": [
    "using Statistics: mean\n",
    "\n",
    "function trial()\n",
    "    n = 0\n",
    "    singing = true\n",
    "    while (singing)\n",
    "        if (rand(1:365) == 1)\n",
    "            singing = false\n",
    "        else\n",
    "            n += 1\n",
    "        end\n",
    "    end\n",
    "    n\n",
    "end\n",
    "\n",
    "function do_trials(n_trials)\n",
    "    trials = zeros(Int, n_trials)\n",
    "    for i in 1:n_trials\n",
    "        trials[i] = trial()\n",
    "    end\n",
    "    mean(trials)\n",
    "end"
   ]
  },
  {
   "cell_type": "code",
   "execution_count": 2,
   "metadata": {},
   "outputs": [
    {
     "name": "stdout",
     "output_type": "stream",
     "text": [
      "Expected number of days: 364.509047\n",
      "  2.839364 seconds (194.36 k allocations: 19.555 MiB, 0.31% gc time, 3.27% compilation time)\n"
     ]
    }
   ],
   "source": [
    "@time begin\n",
    "    n_trials = 1_000_000\n",
    "    result = do_trials(n_trials)\n",
    "    println(\"Expected number of days: $result\")\n",
    "end"
   ]
  },
  {
   "cell_type": "markdown",
   "metadata": {},
   "source": [
    "---\n",
    "\n",
    "## About Julia\n",
    "\n",
    "* Created by Jeff Bezanson, Alan Edelman, Stefan Karpinski, and Viral B. Shah in 2009\n",
    "* [Released publicly in 2012](https://julialang.org/blog/2012/02/why-we-created-julia)\n",
    "* [Version 1.0 released August 2018](https://julialang.org/blog/2018/08/one-point-zero)\n",
    "* [Version 1.6.1 released April 2021](https://julialang.org/downloads/)\n",
    "\n",
    "#### Main language features\n",
    "\n",
    "* Multiple dispatch (parametric polymorphism)\n",
    "* Dynamic type system (\"optional\" typing)\n",
    "* High performance (approaching C, Fortran, etc.)\n",
    "* Built-in package manager\n",
    "* Lisp-like macros and metaprogramming\n",
    "* Interoperability with Python, R, C, Fortran\n",
    "* Designed for parallel and distributed computing\n",
    "\n",
    "TODO: talk about package ecosystem, maturity, etc."
   ]
  },
  {
   "cell_type": "markdown",
   "metadata": {
    "tags": []
   },
   "source": [
    "# The \"two-language problem\"\n",
    "\n",
    "Languages like MATLAB, Python, and R, commonly used for data analysis and scientific computing are nice because they can be used interactively. They are great for exploratory analysis and prototyping. But they tend to be slow, especially when processing large amounts of data.\n",
    "\n",
    "So computationally intensive tasks end up being rewritten in C, C++, or Fortran.\n",
    "\n",
    "**Julia's goal is for as much of the standard library and third-party packages to be written in pure Julia as possible.** That makes the eco-system more accessible and it's easier for domain experts to create their own packages.\n",
    "\n",
    "For example, compare the source code statistics for R and Julia from Github (captured June 15, 2021).\n",
    "\n",
    "| R                                            | Julia                                                |\n",
    "| -------------------------------------------- | ---------------------------------------------------- |\n",
    "| ![R source stats](images/r-source-stats.png) | ![Julia source stats](images/julia-source-stats.png) |\n"
   ]
  }
 ],
 "metadata": {
  "kernelspec": {
   "display_name": "Julia 1.6.2",
   "language": "julia",
   "name": "julia-1.6"
  },
  "language_info": {
   "file_extension": ".jl",
   "mimetype": "application/julia",
   "name": "julia",
   "version": "1.6.2"
  }
 },
 "nbformat": 4,
 "nbformat_minor": 4
}
