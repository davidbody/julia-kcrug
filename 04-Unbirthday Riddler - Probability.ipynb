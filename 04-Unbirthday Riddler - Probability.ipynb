{
 "cells": [
  {
   "cell_type": "markdown",
   "metadata": {},
   "source": [
    "# Solution using Probability Theory"
   ]
  },
  {
   "cell_type": "markdown",
   "metadata": {},
   "source": [
    "### Riddler Express\n",
    "\n",
    "https://fivethirtyeight.com/features/so-you-want-to-tether-your-goat-now-what/\n",
    "\n",
    "> From Luke Robinson, a serenading stumper:\n",
    "\n",
    "> My daughter really likes to hear me sing “The Unbirthday Song” from “Alice in Wonderland” to her. She also likes to sing it to other people. Obviously, the odds of my being able to sing it to her on any random day are 364 in 365, because I cannot sing it on her birthday. The question is, though, how many random people would she expect to be able to sing it to on any given day before it became more likely than not that she would encounter someone whose birthday it is? In other words, what is the expected length of her singing streak?\n"
   ]
  },
  {
   "cell_type": "markdown",
   "metadata": {},
   "source": [
    "The [Geometric distrubution](https://en.wikipedia.org/wiki/Geometric_distribution) is the probability distribution of the number $Y$ of failures of Bernoulli trials before the first success.\n",
    "\n",
    "If we consider finding a person whose birthday is today as \"success,\" then $Y$ becomes the length of the singing streak.\n",
    "\n",
    "The probability mass function for the Geometric distribution is\n",
    "\n",
    "$${\\Pr(Y=k)=(1-p)^{k}p}$$\n",
    "\n",
    "for k = 0, 1, 2, 3, .... where $p$ is probability of success for each Bernoulli trial.\n",
    "\n",
    "The mean of the Geometric distribution is\n",
    "\n",
    "$$E(Y) = \\frac{1 - p}{p}$$\n",
    "\n",
    "In our case, $p$ is the probability that a random person we encounter has a birthday today, so\n",
    "\n",
    "$$p = \\frac{1}{365}$$\n",
    "\n",
    "and therefore\n",
    "\n",
    "$$E(Y) = \\frac{1 - \\frac{1}{365}}{\\frac{1}{365}}$$\n",
    "\n",
    "$$ = \\frac{365 - \\frac{365}{365}}{\\frac{365}{365}}$$\n",
    "\n",
    "$$ = 365 - 1$$\n",
    "\n",
    "$$ = 364$$"
   ]
  }
 ],
 "metadata": {
  "kernelspec": {
   "display_name": "Julia 1.6.2",
   "language": "julia",
   "name": "julia-1.6"
  },
  "language_info": {
   "file_extension": ".jl",
   "mimetype": "application/julia",
   "name": "julia",
   "version": "1.6.2"
  }
 },
 "nbformat": 4,
 "nbformat_minor": 4
}
