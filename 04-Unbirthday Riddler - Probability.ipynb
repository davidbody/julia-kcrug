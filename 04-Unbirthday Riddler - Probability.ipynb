{
 "cells": [
  {
   "cell_type": "markdown",
   "metadata": {},
   "source": [
    "# Solution using Probability Theory"
   ]
  },
  {
   "cell_type": "markdown",
   "metadata": {},
   "source": [
    "### Riddler Express\n",
    "\n",
    "https://fivethirtyeight.com/features/so-you-want-to-tether-your-goat-now-what/\n",
    "\n",
    "> From Luke Robinson, a serenading stumper:\n",
    "\n",
    "> My daughter really likes to hear me sing “The Unbirthday Song” from “Alice in Wonderland” to her. She also likes to sing it to other people. Obviously, the odds of my being able to sing it to her on any random day are 364 in 365, because I cannot sing it on her birthday. The question is, though, how many random people would she expect to be able to sing it to on any given day before it became more likely than not that she would encounter someone whose birthday it is? In other words, what is the expected length of her singing streak?\n"
   ]
  },
  {
   "cell_type": "markdown",
   "metadata": {},
   "source": [
    "The [Geometric distrubution](https://en.wikipedia.org/wiki/Geometric_distribution) is the probability distribution of the number $Y$ of failures of Bernoulli trials before the first success.\n",
    "\n",
    "If we consider finding a person whose birthday is today as \"success,\" then $Y$ becomes the length of the singing streak.\n",
    "\n",
    "The probability mass function for the Geometric distribution is\n",
    "\n",
    "$${\\Pr(Y=k)=(1-p)^{k}p}$$\n",
    "\n",
    "for k = 0, 1, 2, 3, .... where $p$ is probability of success for each Bernoulli trial.\n",
    "\n",
    "The mean of the Geometric distribution is\n",
    "\n",
    "$$E(Y) = \\frac{1 - p}{p}$$\n",
    "\n",
    "In our case, $p$ is the probability that a random person we encounter has a birthday today, so\n",
    "\n",
    "$$p = \\frac{1}{365}$$\n",
    "\n",
    "and therefore\n",
    "\n",
    "$$E(Y) = \\frac{1 - \\frac{1}{365}}{\\frac{1}{365}}$$\n",
    "\n",
    "$$ = \\frac{365 - \\frac{365}{365}}{\\frac{365}{365}}$$\n",
    "\n",
    "$$ = 365 - 1$$\n",
    "\n",
    "$$ = 364$$"
   ]
  },
  {
   "cell_type": "markdown",
   "metadata": {},
   "source": [
    "---\n",
    "\n",
    "### Using Julia\n",
    "\n",
    "In Julia, you could calculate this using the `Geometric` distribution from the [`Distributions`](https://juliastats.org/Distributions.jl/stable/) package.\n",
    "\n",
    "First load the package."
   ]
  },
  {
   "cell_type": "code",
   "execution_count": 1,
   "metadata": {},
   "outputs": [],
   "source": [
    "using Distributions"
   ]
  },
  {
   "cell_type": "markdown",
   "metadata": {},
   "source": [
    "Look at the documentation for `Geometric`."
   ]
  },
  {
   "cell_type": "code",
   "execution_count": 2,
   "metadata": {},
   "outputs": [
    {
     "name": "stdout",
     "output_type": "stream",
     "text": [
      "search: \u001b[0m\u001b[1mG\u001b[22m\u001b[0m\u001b[1me\u001b[22m\u001b[0m\u001b[1mo\u001b[22m\u001b[0m\u001b[1mm\u001b[22m\u001b[0m\u001b[1me\u001b[22m\u001b[0m\u001b[1mt\u001b[22m\u001b[0m\u001b[1mr\u001b[22m\u001b[0m\u001b[1mi\u001b[22m\u001b[0m\u001b[1mc\u001b[22m Hyper\u001b[0m\u001b[1mg\u001b[22m\u001b[0m\u001b[1me\u001b[22m\u001b[0m\u001b[1mo\u001b[22m\u001b[0m\u001b[1mm\u001b[22m\u001b[0m\u001b[1me\u001b[22m\u001b[0m\u001b[1mt\u001b[22m\u001b[0m\u001b[1mr\u001b[22m\u001b[0m\u001b[1mi\u001b[22m\u001b[0m\u001b[1mc\u001b[22m NoncentralHyper\u001b[0m\u001b[1mg\u001b[22m\u001b[0m\u001b[1me\u001b[22m\u001b[0m\u001b[1mo\u001b[22m\u001b[0m\u001b[1mm\u001b[22m\u001b[0m\u001b[1me\u001b[22m\u001b[0m\u001b[1mt\u001b[22m\u001b[0m\u001b[1mr\u001b[22m\u001b[0m\u001b[1mi\u001b[22m\u001b[0m\u001b[1mc\u001b[22m\n",
      "\n"
     ]
    },
    {
     "data": {
      "text/latex": [
       "\\begin{verbatim}\n",
       "Geometric(p)\n",
       "\\end{verbatim}\n",
       "A \\emph{Geometric distribution} characterizes the number of failures before the first success in a sequence of independent Bernoulli trials with success rate \\texttt{p}.\n",
       "\n",
       "$$P(X = k) = p (1 - p)^k, \\quad \\text{for } k = 0, 1, 2, \\ldots.$$\n",
       "\\begin{verbatim}\n",
       "Geometric()    # Geometric distribution with success rate 0.5\n",
       "Geometric(p)   # Geometric distribution with success rate p\n",
       "\n",
       "params(d)      # Get the parameters, i.e. (p,)\n",
       "succprob(d)    # Get the success rate, i.e. p\n",
       "failprob(d)    # Get the failure rate, i.e. 1 - p\n",
       "\\end{verbatim}\n",
       "External links\n",
       "\n",
       "\\begin{itemize}\n",
       "\\item \\href{http://en.wikipedia.org/wiki/Geometric_distribution}{Geometric distribution on Wikipedia}\n",
       "\n",
       "\\end{itemize}\n"
      ],
      "text/markdown": [
       "```\n",
       "Geometric(p)\n",
       "```\n",
       "\n",
       "A *Geometric distribution* characterizes the number of failures before the first success in a sequence of independent Bernoulli trials with success rate `p`.\n",
       "\n",
       "$$\n",
       "P(X = k) = p (1 - p)^k, \\quad \\text{for } k = 0, 1, 2, \\ldots.\n",
       "$$\n",
       "\n",
       "```julia\n",
       "Geometric()    # Geometric distribution with success rate 0.5\n",
       "Geometric(p)   # Geometric distribution with success rate p\n",
       "\n",
       "params(d)      # Get the parameters, i.e. (p,)\n",
       "succprob(d)    # Get the success rate, i.e. p\n",
       "failprob(d)    # Get the failure rate, i.e. 1 - p\n",
       "```\n",
       "\n",
       "External links\n",
       "\n",
       "  * [Geometric distribution on Wikipedia](http://en.wikipedia.org/wiki/Geometric_distribution)\n"
      ],
      "text/plain": [
       "\u001b[36m  Geometric(p)\u001b[39m\n",
       "\n",
       "  A \u001b[4mGeometric distribution\u001b[24m characterizes the number of failures before the\n",
       "  first success in a sequence of independent Bernoulli trials with success\n",
       "  rate \u001b[36mp\u001b[39m.\n",
       "\n",
       "\u001b[35m  P(X = k) = p (1 - p)^k, \\quad \\text{for } k = 0, 1, 2, \\ldots.\u001b[39m\n",
       "\n",
       "\u001b[36m  Geometric()    # Geometric distribution with success rate 0.5\u001b[39m\n",
       "\u001b[36m  Geometric(p)   # Geometric distribution with success rate p\u001b[39m\n",
       "\u001b[36m  \u001b[39m\n",
       "\u001b[36m  params(d)      # Get the parameters, i.e. (p,)\u001b[39m\n",
       "\u001b[36m  succprob(d)    # Get the success rate, i.e. p\u001b[39m\n",
       "\u001b[36m  failprob(d)    # Get the failure rate, i.e. 1 - p\u001b[39m\n",
       "\n",
       "  External links\n",
       "\n",
       "    •  Geometric distribution on Wikipedia\n",
       "       (http://en.wikipedia.org/wiki/Geometric_distribution)"
      ]
     },
     "execution_count": 2,
     "metadata": {},
     "output_type": "execute_result"
    }
   ],
   "source": [
    "?Geometric"
   ]
  },
  {
   "cell_type": "markdown",
   "metadata": {},
   "source": [
    "Then we create an instance of a geometric distribution with a success probability of $\\frac{1}{365}$.\n",
    "\n",
    "Note that $\\gamma$ is typed `\\gamma<tab>`."
   ]
  },
  {
   "cell_type": "code",
   "execution_count": 3,
   "metadata": {},
   "outputs": [
    {
     "data": {
      "text/plain": [
       "Geometric{Float64}(p=0.0027397260273972603)"
      ]
     },
     "execution_count": 3,
     "metadata": {},
     "output_type": "execute_result"
    }
   ],
   "source": [
    "γ = Geometric(1/365)"
   ]
  },
  {
   "cell_type": "markdown",
   "metadata": {},
   "source": [
    "Then we compute the mean of the distribution using the `mean` function. When we call `mean` passing it an instance of `Geometric`, Julia dispatches the call to a method that is specialized for this distribution, and that method calculates the mean according to a formula."
   ]
  },
  {
   "cell_type": "code",
   "execution_count": 4,
   "metadata": {},
   "outputs": [
    {
     "data": {
      "text/plain": [
       "364.0"
      ]
     },
     "execution_count": 4,
     "metadata": {},
     "output_type": "execute_result"
    }
   ],
   "source": [
    "mean(γ)"
   ]
  },
  {
   "cell_type": "markdown",
   "metadata": {},
   "source": [
    "This is an exact value. There is no simulation involved.\n",
    "\n",
    "We can see the method that is called using the `@which` macro."
   ]
  },
  {
   "cell_type": "code",
   "execution_count": 5,
   "metadata": {},
   "outputs": [
    {
     "data": {
      "text/html": [
       "mean(d::<b>Geometric</b>) in Distributions at <a href=\"file:///home/david/.julia/packages/Distributions/jEqbk/src/univariate/discrete/geometric.jl\" target=\"_blank\">/home/david/.julia/packages/Distributions/jEqbk/src/univariate/discrete/geometric.jl:55</a>"
      ],
      "text/plain": [
       "mean(d::Geometric) in Distributions at /home/david/.julia/packages/Distributions/jEqbk/src/univariate/discrete/geometric.jl:55"
      ]
     },
     "execution_count": 5,
     "metadata": {},
     "output_type": "execute_result"
    }
   ],
   "source": [
    "@which mean(γ)"
   ]
  },
  {
   "cell_type": "markdown",
   "metadata": {},
   "source": [
    "If we follow the link, we'll see that the source code for this method in the `Distributions` package is simply\n",
    "\n",
    "```julia\n",
    "mean(d::Geometric) = failprob(d) / succprob(d)\n",
    "```\n",
    "\n",
    "And, if we want to generate random numbers from this distribution, we can call `rand` passing the distribution and the number of random numbers we want."
   ]
  },
  {
   "cell_type": "code",
   "execution_count": 6,
   "metadata": {},
   "outputs": [
    {
     "data": {
      "text/plain": [
       "10-element Vector{Int64}:\n",
       "  596\n",
       "  161\n",
       "  190\n",
       " 1088\n",
       "   78\n",
       "  544\n",
       "  817\n",
       "  188\n",
       "  109\n",
       "  595"
      ]
     },
     "execution_count": 6,
     "metadata": {},
     "output_type": "execute_result"
    }
   ],
   "source": [
    "rand(γ, 10)"
   ]
  },
  {
   "cell_type": "markdown",
   "metadata": {},
   "source": [
    "The are many functions (`rand`, `mean`, `var`, `std`, `median`, `modes`, `skewness`, `kurtosis`, `entropy`, etc.) that operate on distributions, and all of the distributions can be used in the same way.\n",
    "\n",
    "The `Distributions` package has univariate, truncated, multivariate, matrix-variate, and mixture models."
   ]
  }
 ],
 "metadata": {
  "@webio": {
   "lastCommId": null,
   "lastKernelId": null
  },
  "kernelspec": {
   "display_name": "Julia 1.6.2",
   "language": "julia",
   "name": "julia-1.6"
  },
  "language_info": {
   "file_extension": ".jl",
   "mimetype": "application/julia",
   "name": "julia",
   "version": "1.6.2"
  }
 },
 "nbformat": 4,
 "nbformat_minor": 4
}
