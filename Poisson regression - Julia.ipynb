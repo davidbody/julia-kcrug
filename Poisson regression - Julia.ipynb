{
 "cells": [
  {
   "cell_type": "markdown",
   "metadata": {},
   "source": [
    "# Poisson regression in Julia\n",
    "\n",
    "Example from [Introduction to Statistical Thinking, 2e](https://www.statlearning.com/)."
   ]
  },
  {
   "cell_type": "code",
   "execution_count": 1,
   "metadata": {},
   "outputs": [],
   "source": [
    "using DataFrames, CategoricalArrays, GLM, RCall"
   ]
  },
  {
   "cell_type": "code",
   "execution_count": 2,
   "metadata": {},
   "outputs": [],
   "source": [
    "@rlibrary ISLR2"
   ]
  },
  {
   "cell_type": "code",
   "execution_count": 3,
   "metadata": {},
   "outputs": [
    {
     "data": {
      "text/html": [
       "<div class=\"data-frame\"><p>15 rows × 7 columns</p><table class=\"data-frame\"><thead><tr><th></th><th>variable</th><th>mean</th><th>min</th><th>median</th><th>max</th><th>nmissing</th><th>eltype</th></tr><tr><th></th><th title=\"Symbol\">Symbol</th><th title=\"Union{Nothing, Float64}\">Union…</th><th title=\"Any\">Any</th><th title=\"Union{Nothing, Float64}\">Union…</th><th title=\"Any\">Any</th><th title=\"Int64\">Int64</th><th title=\"DataType\">DataType</th></tr></thead><tbody><tr><th>1</th><td>season</td><td>2.51359</td><td>1.0</td><td>3.0</td><td>4.0</td><td>0</td><td>Float64</td></tr><tr><th>2</th><td>mnth</td><td></td><td>Jan</td><td></td><td>Dec</td><td>0</td><td>CategoricalValue{String, UInt32}</td></tr><tr><th>3</th><td>day</td><td>184.396</td><td>1.0</td><td>185.0</td><td>365.0</td><td>0</td><td>Float64</td></tr><tr><th>4</th><td>hr</td><td></td><td>0</td><td></td><td>23</td><td>0</td><td>CategoricalValue{String, UInt32}</td></tr><tr><th>5</th><td>holiday</td><td>0.027646</td><td>0.0</td><td>0.0</td><td>1.0</td><td>0</td><td>Float64</td></tr><tr><th>6</th><td>weekday</td><td>3.01272</td><td>0.0</td><td>3.0</td><td>6.0</td><td>0</td><td>Float64</td></tr><tr><th>7</th><td>workingday</td><td>0.683748</td><td>0.0</td><td>1.0</td><td>1.0</td><td>0</td><td>Float64</td></tr><tr><th>8</th><td>weathersit</td><td></td><td>clear</td><td></td><td>heavy rain/snow</td><td>0</td><td>CategoricalValue{String, UInt32}</td></tr><tr><th>9</th><td>temp</td><td>0.489069</td><td>0.02</td><td>0.5</td><td>0.96</td><td>0</td><td>Float64</td></tr><tr><th>10</th><td>atemp</td><td>0.469</td><td>0.0</td><td>0.4848</td><td>1.0</td><td>0</td><td>Float64</td></tr><tr><th>11</th><td>hum</td><td>0.64343</td><td>0.0</td><td>0.65</td><td>1.0</td><td>0</td><td>Float64</td></tr><tr><th>12</th><td>windspeed</td><td>0.191172</td><td>0.0</td><td>0.194</td><td>0.8507</td><td>0</td><td>Float64</td></tr><tr><th>13</th><td>casual</td><td>28.6006</td><td>0.0</td><td>14.0</td><td>272.0</td><td>0</td><td>Float64</td></tr><tr><th>14</th><td>registered</td><td>115.194</td><td>0.0</td><td>90.0</td><td>567.0</td><td>0</td><td>Float64</td></tr><tr><th>15</th><td>bikers</td><td>143.794</td><td>1.0</td><td>109.0</td><td>651.0</td><td>0</td><td>Float64</td></tr></tbody></table></div>"
      ],
      "text/latex": [
       "\\begin{tabular}{r|ccccccc}\n",
       "\t& variable & mean & min & median & max & nmissing & eltype\\\\\n",
       "\t\\hline\n",
       "\t& Symbol & Union… & Any & Union… & Any & Int64 & DataType\\\\\n",
       "\t\\hline\n",
       "\t1 & season & 2.51359 & 1.0 & 3.0 & 4.0 & 0 & Float64 \\\\\n",
       "\t2 & mnth &  & Jan &  & Dec & 0 & CategoricalValue\\{String, UInt32\\} \\\\\n",
       "\t3 & day & 184.396 & 1.0 & 185.0 & 365.0 & 0 & Float64 \\\\\n",
       "\t4 & hr &  & 0 &  & 23 & 0 & CategoricalValue\\{String, UInt32\\} \\\\\n",
       "\t5 & holiday & 0.027646 & 0.0 & 0.0 & 1.0 & 0 & Float64 \\\\\n",
       "\t6 & weekday & 3.01272 & 0.0 & 3.0 & 6.0 & 0 & Float64 \\\\\n",
       "\t7 & workingday & 0.683748 & 0.0 & 1.0 & 1.0 & 0 & Float64 \\\\\n",
       "\t8 & weathersit &  & clear &  & heavy rain/snow & 0 & CategoricalValue\\{String, UInt32\\} \\\\\n",
       "\t9 & temp & 0.489069 & 0.02 & 0.5 & 0.96 & 0 & Float64 \\\\\n",
       "\t10 & atemp & 0.469 & 0.0 & 0.4848 & 1.0 & 0 & Float64 \\\\\n",
       "\t11 & hum & 0.64343 & 0.0 & 0.65 & 1.0 & 0 & Float64 \\\\\n",
       "\t12 & windspeed & 0.191172 & 0.0 & 0.194 & 0.8507 & 0 & Float64 \\\\\n",
       "\t13 & casual & 28.6006 & 0.0 & 14.0 & 272.0 & 0 & Float64 \\\\\n",
       "\t14 & registered & 115.194 & 0.0 & 90.0 & 567.0 & 0 & Float64 \\\\\n",
       "\t15 & bikers & 143.794 & 1.0 & 109.0 & 651.0 & 0 & Float64 \\\\\n",
       "\\end{tabular}\n"
      ],
      "text/plain": [
       "\u001b[1m15×7 DataFrame\u001b[0m\n",
       "\u001b[1m Row \u001b[0m│\u001b[1m variable   \u001b[0m\u001b[1m mean     \u001b[0m\u001b[1m min   \u001b[0m\u001b[1m median \u001b[0m\u001b[1m max             \u001b[0m\u001b[1m nmissing \u001b[0m\u001b[1m eltype \u001b[0m ⋯\n",
       "\u001b[1m     \u001b[0m│\u001b[90m Symbol     \u001b[0m\u001b[90m Union…   \u001b[0m\u001b[90m Any   \u001b[0m\u001b[90m Union… \u001b[0m\u001b[90m Any             \u001b[0m\u001b[90m Int64    \u001b[0m\u001b[90m DataTyp\u001b[0m ⋯\n",
       "─────┼──────────────────────────────────────────────────────────────────────────\n",
       "   1 │ season      2.51359   1.0    3.0     4.0                     0  Float64 ⋯\n",
       "   2 │ mnth       \u001b[90m          \u001b[0m Jan   \u001b[90m        \u001b[0m Dec                     0  Categor\n",
       "   3 │ day         184.396   1.0    185.0   365.0                   0  Float64\n",
       "   4 │ hr         \u001b[90m          \u001b[0m 0     \u001b[90m        \u001b[0m 23                      0  Categor\n",
       "   5 │ holiday     0.027646  0.0    0.0     1.0                     0  Float64 ⋯\n",
       "   6 │ weekday     3.01272   0.0    3.0     6.0                     0  Float64\n",
       "   7 │ workingday  0.683748  0.0    1.0     1.0                     0  Float64\n",
       "   8 │ weathersit \u001b[90m          \u001b[0m clear \u001b[90m        \u001b[0m heavy rain/snow         0  Categor\n",
       "   9 │ temp        0.489069  0.02   0.5     0.96                    0  Float64 ⋯\n",
       "  10 │ atemp       0.469     0.0    0.4848  1.0                     0  Float64\n",
       "  11 │ hum         0.64343   0.0    0.65    1.0                     0  Float64\n",
       "  12 │ windspeed   0.191172  0.0    0.194   0.8507                  0  Float64\n",
       "  13 │ casual      28.6006   0.0    14.0    272.0                   0  Float64 ⋯\n",
       "  14 │ registered  115.194   0.0    90.0    567.0                   0  Float64\n",
       "  15 │ bikers      143.794   1.0    109.0   651.0                   0  Float64\n",
       "\u001b[36m                                                                1 column omitted\u001b[0m"
      ]
     },
     "execution_count": 3,
     "metadata": {},
     "output_type": "execute_result"
    }
   ],
   "source": [
    "Bikeshare = rcopy(R\"ISLR2::Bikeshare\")\n",
    "describe(Bikeshare)"
   ]
  },
  {
   "cell_type": "code",
   "execution_count": 4,
   "metadata": {},
   "outputs": [
    {
     "data": {
      "text/plain": [
       "StatsModels.TableRegressionModel{GeneralizedLinearModel{GLM.GlmResp{Vector{Float64}, Poisson{Float64}, LogLink}, GLM.DensePredChol{Float64, LinearAlgebra.Cholesky{Float64, Matrix{Float64}}}}, Matrix{Float64}}\n",
       "\n",
       "bikers ~ 1 + mnth + hr + workingday + temp + weathersit\n",
       "\n",
       "Coefficients:\n",
       "──────────────────────────────────────────────────────────────────────────────────────────────\n",
       "                                  Coef.  Std. Error        z  Pr(>|z|)   Lower 95%   Upper 95%\n",
       "──────────────────────────────────────────────────────────────────────────────────────────────\n",
       "(Intercept)                   2.69369    0.00971956   277.14    <1e-99   2.67464     2.71274\n",
       "mnth: Feb                     0.226046   0.0069503     32.52    <1e-99   0.212424    0.239668\n",
       "mnth: March                   0.376437   0.00669027    56.27    <1e-99   0.363324    0.389549\n",
       "mnth: April                   0.691693   0.0069866     99.00    <1e-99   0.678       0.705387\n",
       "mnth: May                     0.910641   0.00743519   122.48    <1e-99   0.896068    0.925213\n",
       "mnth: June                    0.893405   0.00824112   108.41    <1e-99   0.877253    0.909557\n",
       "mnth: July                    0.773787   0.00880509    87.88    <1e-99   0.756529    0.791044\n",
       "mnth: Aug                     0.821341   0.00833184    98.58    <1e-99   0.805011    0.837671\n",
       "mnth: Sept                    0.903663   0.00762037   118.59    <1e-99   0.888727    0.918599\n",
       "mnth: Oct                     0.937743   0.00674327   139.06    <1e-99   0.924527    0.95096\n",
       "mnth: Nov                     0.820433   0.00649373   126.34    <1e-99   0.807706    0.833161\n",
       "mnth: Dec                     0.68685    0.00631692   108.73    <1e-99   0.674469    0.699231\n",
       "hr: 1                        -0.471593   0.012996     -36.29    <1e-99  -0.497064   -0.446121\n",
       "hr: 2                        -0.808756   0.014631     -55.28    <1e-99  -0.837433   -0.78008\n",
       "hr: 3                        -1.44392    0.0188253    -76.70    <1e-99  -1.48081    -1.40702\n",
       "hr: 4                        -2.0761     0.0247949    -83.73    <1e-99  -2.1247     -2.0275\n",
       "hr: 5                        -1.06027    0.0160744    -65.96    <1e-99  -1.09178    -1.02877\n",
       "hr: 6                         0.324498   0.0106085     30.59    <1e-99   0.303706    0.34529\n",
       "hr: 7                         1.32957    0.00905471   146.84    <1e-99   1.31182     1.34731\n",
       "hr: 8                         1.83131    0.00865278   211.64    <1e-99   1.81435     1.84827\n",
       "hr: 9                         1.33616    0.00901602   148.20    <1e-99   1.31848     1.35383\n",
       "hr: 10                        1.09124    0.00926063   117.84    <1e-99   1.07309     1.10939\n",
       "hr: 11                        1.24851    0.00909256   137.31    <1e-99   1.23069     1.26633\n",
       "hr: 12                        1.43403    0.00893507   160.49    <1e-99   1.41652     1.45154\n",
       "hr: 13                        1.42795    0.00895061   159.54    <1e-99   1.41041     1.44549\n",
       "hr: 14                        1.3793     0.00899888   153.27    <1e-99   1.36166     1.39693\n",
       "hr: 15                        1.40815    0.00897655   156.87    <1e-99   1.39056     1.42574\n",
       "hr: 16                        1.62869    0.00880426   184.99    <1e-99   1.61143     1.64594\n",
       "hr: 17                        2.04902    0.00856492   239.23    <1e-99   2.03223     2.06581\n",
       "hr: 18                        1.96667    0.00858517   229.08    <1e-99   1.94984     1.98349\n",
       "hr: 19                        1.66841    0.00874248   190.84    <1e-99   1.65127     1.68554\n",
       "hr: 20                        1.37059    0.00897305   152.74    <1e-99   1.353       1.38817\n",
       "hr: 21                        1.11857    0.00921476   121.39    <1e-99   1.10051     1.13663\n",
       "hr: 22                        0.871879   0.00953569    91.43    <1e-99   0.85319     0.890569\n",
       "hr: 23                        0.481387   0.0102063     47.17    <1e-99   0.461383    0.501392\n",
       "workingday                    0.0146653  0.00195463     7.50    <1e-13   0.0108343   0.0184963\n",
       "temp                          0.785292   0.0114745     68.44    <1e-99   0.762802    0.807782\n",
       "weathersit: cloudy/misty     -0.0752313  0.00217871   -34.53    <1e-99  -0.0795015  -0.0709611\n",
       "weathersit: light rain/snow  -0.5758     0.00405708  -141.92    <1e-99  -0.583752   -0.567848\n",
       "weathersit: heavy rain/snow  -0.926287   0.166782      -5.55    <1e-07  -1.25317    -0.599401\n",
       "──────────────────────────────────────────────────────────────────────────────────────────────"
      ]
     },
     "execution_count": 4,
     "metadata": {},
     "output_type": "execute_result"
    }
   ],
   "source": [
    "mod_pois = fit(GeneralizedLinearModel, @formula(bikers ~ mnth + hr + workingday + temp + weathersit),\n",
    "    Bikeshare, Poisson())"
   ]
  },
  {
   "cell_type": "code",
   "execution_count": 5,
   "metadata": {},
   "outputs": [
    {
     "data": {
      "text/plain": [
       "228041.0"
      ]
     },
     "execution_count": 5,
     "metadata": {},
     "output_type": "execute_result"
    }
   ],
   "source": [
    "deviance(mod_pois) |> round"
   ]
  },
  {
   "cell_type": "code",
   "execution_count": null,
   "metadata": {},
   "outputs": [],
   "source": []
  }
 ],
 "metadata": {
  "kernelspec": {
   "display_name": "Julia 1.6.2",
   "language": "julia",
   "name": "julia-1.6"
  },
  "language_info": {
   "file_extension": ".jl",
   "mimetype": "application/julia",
   "name": "julia",
   "version": "1.6.2"
  }
 },
 "nbformat": 4,
 "nbformat_minor": 4
}
