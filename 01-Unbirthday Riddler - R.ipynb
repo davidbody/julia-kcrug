{
 "cells": [
  {
   "cell_type": "markdown",
   "metadata": {},
   "source": [
    "# Riddler Express\n",
    "\n",
    "https://fivethirtyeight.com/features/so-you-want-to-tether-your-goat-now-what/\n",
    "\n",
    "> From Luke Robinson, a serenading stumper:\n",
    "\n",
    "> My daughter really likes to hear me sing “The Unbirthday Song” from “Alice in Wonderland” to her. She also likes to sing it to other people. Obviously, the odds of my being able to sing it to her on any random day are 364 in 365, because I cannot sing it on her birthday. The question is, though, how many random people would she expect to be able to sing it to on any given day before it became more likely than not that she would encounter someone whose birthday it is? In other words, what is the expected length of her singing streak?\n",
    "\n",
    "Let's use a **R** simulation to calculate the approximate expected length of the singing streak."
   ]
  },
  {
   "cell_type": "markdown",
   "metadata": {},
   "source": [
    "## Naive implementation with `sample`\n",
    "\n",
    "Here is a straightforward naive implementation that someone new to R might write."
   ]
  },
  {
   "cell_type": "code",
   "execution_count": 1,
   "metadata": {},
   "outputs": [],
   "source": [
    "trial1 <- function() {\n",
    "  days <- 1:365\n",
    "  n <- 0\n",
    "  singing <- TRUE\n",
    "  while (singing) {\n",
    "    if (sample(days, 1, replace = TRUE) == 1) {\n",
    "      singing <- FALSE\n",
    "    } else {\n",
    "      n <- n + 1\n",
    "    }\n",
    "  }\n",
    "  n\n",
    "}"
   ]
  },
  {
   "cell_type": "markdown",
   "metadata": {},
   "source": [
    "That code performs one trial and returns the number people the girl sings to until she finds one whose birthday is today. We arbitrarily assume that today is day 1.\n",
    "\n",
    "We're not even going to run this one, because it takes a little over 27 minutes to do 1 million trials."
   ]
  },
  {
   "cell_type": "markdown",
   "metadata": {},
   "source": [
    "## Naive implementation with `sample.int`\n",
    "\n",
    "We can make it faster by calling `sample.int` instead of `sample`, something even an experienced R user might not think of right away. Note that we also change `days` to an integer instead of a range because that's what `sample.int` expects."
   ]
  },
  {
   "cell_type": "code",
   "execution_count": 2,
   "metadata": {},
   "outputs": [],
   "source": [
    "trial2 <- function() {\n",
    "  days <- 365\n",
    "  n <- 0\n",
    "  singing <- TRUE\n",
    "  while (singing) {\n",
    "    if (sample.int(days, 1, replace = TRUE) == 1) {\n",
    "      singing <- FALSE\n",
    "    } else {\n",
    "      n <- n + 1\n",
    "    }\n",
    "  }\n",
    "  n\n",
    "}"
   ]
  },
  {
   "cell_type": "markdown",
   "metadata": {},
   "source": [
    "We're not going to run this one either, because it still takes over 18 minutes to do 1 million trials.\n",
    "\n",
    "This is a big improvement, but it's still frustratingly slow."
   ]
  },
  {
   "cell_type": "markdown",
   "metadata": {},
   "source": [
    "## Why are these so slow?\n",
    "\n",
    "These naive implementations are slow in R because the part that R has optimized to be fast is random sampling in `sample` and `sample.int`. `sample` is a wrapper around `sample.int`, and `sample.int` is [written in C](https://github.com/wch/r-source/blob/trunk/src/main/unique.c#L2127). Unfortunately, there is overhead associated with crossing the language boundary from R to C and back to R, and our naive implementations are doing it in a loop.\n",
    "\n",
    "To gain some insight into this, take a look at the following comparison."
   ]
  },
  {
   "cell_type": "code",
   "execution_count": 3,
   "metadata": {},
   "outputs": [],
   "source": [
    "# sample 1 integer 1000 times\n",
    "example1 <- function() {\n",
    "    for (i in seq(1000)) {\n",
    "        sample.int(365, 1, replace = TRUE)\n",
    "    }\n",
    "}"
   ]
  },
  {
   "cell_type": "code",
   "execution_count": 4,
   "metadata": {},
   "outputs": [],
   "source": [
    "# sample 1000 integers 1 time\n",
    "example2 <- function() {\n",
    "    sample.int(365, 1000, replace = TRUE)\n",
    "}"
   ]
  },
  {
   "cell_type": "code",
   "execution_count": 5,
   "metadata": {},
   "outputs": [],
   "source": [
    "library(microbenchmark)"
   ]
  },
  {
   "cell_type": "code",
   "execution_count": 6,
   "metadata": {},
   "outputs": [
    {
     "name": "stdout",
     "output_type": "stream",
     "text": [
      "Unit: microseconds\n",
      "       expr      min        lq       mean    median       uq      max neval\n",
      " example1() 1851.358 1951.1200 2356.02065 1991.3100 2655.490 5773.972   100\n",
      " example2()   36.979   40.1425   52.76395   40.8165   41.928 1135.201   100\n"
     ]
    }
   ],
   "source": [
    "print(microbenchmark(example1(), example2()))"
   ]
  },
  {
   "cell_type": "markdown",
   "metadata": {},
   "source": [
    "It's *much* faster to do all of our sampling in one call instead of in a loop."
   ]
  },
  {
   "cell_type": "markdown",
   "metadata": {},
   "source": [
    "## How many samples do we need for each trial?\n",
    "\n",
    "But to do it this way, we have to specify the number of samples up front. How many samples will we need for each trial?\n",
    "\n",
    "The girl might encounter someone whose birthday is today right away, in which case we only need 1 sample.\n",
    "\n",
    "Or she could go for a very long time without finding anyone whose birthday is today. In theory there is no upper limit, but we can use the rules of probability to figure out a reasonable upper bound on the number of samples we might need.\n",
    "\n",
    "Suppose we are planning to run 1 million trials. Then an event that might occur only once in a million trials could realistically happen.\n",
    "\n",
    "If we run 1 million trials, how long would we expect the most extreme singing streak to be?\n",
    "\n",
    "Each time the girl approaches a new person, the probability that the person's birthday is **not** today is\n",
    "\n",
    "$$\n",
    "Prob(\\texttt{birthday is not today}) = \\frac{364}{365}\n",
    "$$\n",
    "\n",
    "The probability this would happen $n$ times in a row is\n",
    "\n",
    "$$\n",
    "Prob = \\left(\\frac{364}{365}\\right)^n\n",
    "$$\n",
    "\n",
    "What value of $n$ will make this probability less than 1/1,000,000?\n",
    "\n",
    "In other words, what value of $n$ would make this true?\n",
    "\n",
    "$$\n",
    "\\left(\\frac{364}{365}\\right)^n < \\left(\\frac{1}{1,000,000}\\right)\n",
    "$$\n",
    "\n",
    "Solving for $n$\n",
    "\n",
    "$$\n",
    "n \\log \\left(\\frac{364}{365}\\right) < \\log \\left(\\frac{1}{1,000,000}\\right)\n",
    "$$\n",
    "\n",
    "This is allowed because $log$ is a monotonically increasing function and both fractions are positive and therefore in the domain of $log$.\n",
    "\n",
    "So $n$ needs to be at least \n",
    "\n",
    "$$\n",
    "n > \\frac{\\log \\left(\\frac{1}{1,000,000}\\right)}{\\log \\left(\\frac{364}{365}\\right)}\n",
    "$$\n",
    "\n",
    "The inequality flips because we divided both sides by $log \\left(\\frac{364}{365}\\right)$ which is a negative number."
   ]
  },
  {
   "cell_type": "code",
   "execution_count": 7,
   "metadata": {},
   "outputs": [
    {
     "data": {
      "text/html": [
       "5035.75043982347"
      ],
      "text/latex": [
       "5035.75043982347"
      ],
      "text/markdown": [
       "5035.75043982347"
      ],
      "text/plain": [
       "[1] 5035.75"
      ]
     },
     "metadata": {},
     "output_type": "display_data"
    }
   ],
   "source": [
    "log(1 / 1e6) / log(364 / 365)"
   ]
  },
  {
   "cell_type": "markdown",
   "metadata": {},
   "source": [
    "To be safe, let's generate 6000 samples for each trial.\n",
    "\n",
    "The probability that this will be too small for any given trial is"
   ]
  },
  {
   "cell_type": "code",
   "execution_count": 8,
   "metadata": {},
   "outputs": [
    {
     "data": {
      "text/html": [
       "7.0976594122249e-08"
      ],
      "text/latex": [
       "7.0976594122249e-08"
      ],
      "text/markdown": [
       "7.0976594122249e-08"
      ],
      "text/plain": [
       "[1] 7.097659e-08"
      ]
     },
     "metadata": {},
     "output_type": "display_data"
    }
   ],
   "source": [
    "(364/365)^6000"
   ]
  },
  {
   "cell_type": "markdown",
   "metadata": {},
   "source": [
    "which is about 1 in 700,000,000."
   ]
  },
  {
   "cell_type": "markdown",
   "metadata": {},
   "source": [
    "## Implementation using `purrr::detect_index`\n",
    "\n",
    "We could do something like this using `purrr::detect_index` which returns the position of the first element for which a function returns `TRUE`. Notice that we're using R 4.1's new shorthand function syntax? Cool!"
   ]
  },
  {
   "cell_type": "code",
   "execution_count": 9,
   "metadata": {},
   "outputs": [],
   "source": [
    "library(purrr)\n",
    "\n",
    "trial3 <- function(n_samples) {\n",
    "    detect_index(sample.int(365, 6000, replace = TRUE), \\(x) x == 1) - 1\n",
    "}"
   ]
  },
  {
   "cell_type": "markdown",
   "metadata": {},
   "source": [
    "It turns out that this implementation isn't any faster. In fact it takes about 19 minutes to do 1 million trials, a minute or so longer than using `trial2` above.\n",
    "\n",
    "I have no real idea why this is the case.\n",
    "\n",
    "This implementation also has a subtle bug. `purrr::detect_index` returns 0 when it doesn't find a match, which in our case means that none of the 6000 samples had the value 1. We calculated that the probability of this is minuscule. We could probably just ignore this, but handling it correctly means adding a check for 0 on each trial, which would make the code even slightly slower."
   ]
  },
  {
   "cell_type": "markdown",
   "metadata": {},
   "source": [
    "## Old-school base R implementation\n",
    "\n",
    "There is a way to speed up the simulation, and it uses old-school base R.\n",
    "\n",
    "Here it is."
   ]
  },
  {
   "cell_type": "code",
   "execution_count": 10,
   "metadata": {},
   "outputs": [],
   "source": [
    "trial4 <- function() {\n",
    "  which(sample.int(365, 6000, replace = TRUE) == 1)[1]\n",
    "}"
   ]
  },
  {
   "cell_type": "code",
   "execution_count": 11,
   "metadata": {},
   "outputs": [
    {
     "name": "stdout",
     "output_type": "stream",
     "text": [
      "[1] \"Performing 1,000,000 trials...\"\n",
      "[1] 364.9035\n"
     ]
    },
    {
     "data": {
      "text/plain": [
       "   user  system elapsed \n",
       "293.213   0.107 293.436 "
      ]
     },
     "metadata": {},
     "output_type": "display_data"
    }
   ],
   "source": [
    "do_trials <- function(n_trials) {\n",
    "  trials <- replicate(n_trials, trial4())\n",
    "  mean(trials)\n",
    "}\n",
    "\n",
    "n_trials <- 1e6\n",
    "print(paste(\"Performing\", format(n_trials, big.mark = \",\", scientific = FALSE), \"trials...\"))\n",
    "system.time(print(do_trials(n_trials)))"
   ]
  },
  {
   "cell_type": "markdown",
   "metadata": {},
   "source": [
    "We're down to about 5 minutes, but that was a lot of work!\n",
    "\n",
    "Also take a look at that R code for `trial4`. It might look perfectly reasonable to a seasoned R programmer, but newcomers and casual R users might struggle to read it, let alone develop it on their own."
   ]
  },
  {
   "cell_type": "markdown",
   "metadata": {},
   "source": [
    "### Addendum\n",
    "\n",
    "Can we speed things up by running our trials in parallel?\n",
    "\n",
    "Let's find out."
   ]
  },
  {
   "cell_type": "code",
   "execution_count": 12,
   "metadata": {},
   "outputs": [
    {
     "name": "stderr",
     "output_type": "stream",
     "text": [
      "\n",
      "Attaching package: ‘foreach’\n",
      "\n",
      "\n",
      "The following objects are masked from ‘package:purrr’:\n",
      "\n",
      "    accumulate, when\n",
      "\n",
      "\n",
      "Loading required package: iterators\n",
      "\n",
      "Loading required package: parallel\n",
      "\n"
     ]
    }
   ],
   "source": [
    "library(foreach)\n",
    "library(doParallel)"
   ]
  },
  {
   "cell_type": "code",
   "execution_count": 13,
   "metadata": {},
   "outputs": [
    {
     "data": {
      "text/html": [
       "4"
      ],
      "text/latex": [
       "4"
      ],
      "text/markdown": [
       "4"
      ],
      "text/plain": [
       "[1] 4"
      ]
     },
     "metadata": {},
     "output_type": "display_data"
    }
   ],
   "source": [
    "parallel::detectCores()"
   ]
  },
  {
   "cell_type": "markdown",
   "metadata": {},
   "source": [
    "My laptop only has 4 cores, and we'll leave one core free to take care of other tasks while the simulations are running."
   ]
  },
  {
   "cell_type": "code",
   "execution_count": 14,
   "metadata": {},
   "outputs": [
    {
     "data": {
      "text/plain": [
       "socket cluster with 3 nodes on host ‘localhost’"
      ]
     },
     "metadata": {},
     "output_type": "display_data"
    }
   ],
   "source": [
    "n_cores <- parallel::detectCores() - 1\n",
    "my_cluster <- parallel::makeForkCluster(n_cores)\n",
    "my_cluster"
   ]
  },
  {
   "cell_type": "code",
   "execution_count": 15,
   "metadata": {},
   "outputs": [],
   "source": [
    "doParallel::registerDoParallel(cl = my_cluster)"
   ]
  },
  {
   "cell_type": "markdown",
   "metadata": {},
   "source": [
    "We'll continue to use `trial4` from above, but we'll run multiple copies in parallel."
   ]
  },
  {
   "cell_type": "code",
   "execution_count": 16,
   "metadata": {},
   "outputs": [],
   "source": [
    "do_trials <- function(n_trials) {\n",
    "    replicate(n_trials, trial4())\n",
    "}\n",
    "\n",
    "n_trials <- 1e6"
   ]
  },
  {
   "cell_type": "markdown",
   "metadata": {},
   "source": [
    "Since there are 3 nodes in our cluster, we'll run 1/3 of our trials on each."
   ]
  },
  {
   "cell_type": "code",
   "execution_count": 17,
   "metadata": {},
   "outputs": [
    {
     "name": "stdout",
     "output_type": "stream",
     "text": [
      "[1] \"Performing 1,000,000 trials...\"\n",
      "[1] 365.3402\n"
     ]
    },
    {
     "data": {
      "text/plain": [
       "   user  system elapsed \n",
       "  0.013   0.004 144.884 "
      ]
     },
     "metadata": {},
     "output_type": "display_data"
    }
   ],
   "source": [
    "do_all_trials <- function() {\n",
    "    trials <- foreach(i = 1:3, .combine = 'c', .export = c(\"do_trials\", \"trial4\")) %dopar% {\n",
    "        do_trials(round(n_trials/3))\n",
    "    }\n",
    "    mean(trials)\n",
    "}\n",
    "\n",
    "print(paste(\"Performing\", format(1e6, big.mark = \",\", scientific = FALSE), \"trials...\"))\n",
    "system.time(print(do_all_trials()))"
   ]
  },
  {
   "cell_type": "code",
   "execution_count": 18,
   "metadata": {},
   "outputs": [],
   "source": [
    "doParallel::stopImplicitCluster()"
   ]
  },
  {
   "cell_type": "markdown",
   "metadata": {},
   "source": [
    "That gives us a roughly 2x speedup, but not the 3x we might have hoped for because there is overhead associated with running simulations in parallel and safely combining the results.\n",
    "\n",
    "So our fastest time for running 1 million simulations is now around 2.5 minutes, which is pretty good considering the first naive implementation took 27 minutes or so. But it was a lot of work to get that level of performance."
   ]
  },
  {
   "cell_type": "code",
   "execution_count": 19,
   "metadata": {},
   "outputs": [
    {
     "data": {
      "text/plain": [
       "R version 4.1.1 (2021-08-10)\n",
       "Platform: x86_64-pc-linux-gnu (64-bit)\n",
       "Running under: Ubuntu 21.04\n",
       "\n",
       "Matrix products: default\n",
       "BLAS:   /usr/lib/x86_64-linux-gnu/openblas-pthread/libblas.so.3\n",
       "LAPACK: /usr/lib/x86_64-linux-gnu/openblas-pthread/libopenblasp-r0.3.13.so\n",
       "\n",
       "locale:\n",
       " [1] LC_CTYPE=en_US.UTF-8       LC_NUMERIC=C              \n",
       " [3] LC_TIME=en_US.UTF-8        LC_COLLATE=en_US.UTF-8    \n",
       " [5] LC_MONETARY=en_US.UTF-8    LC_MESSAGES=en_US.UTF-8   \n",
       " [7] LC_PAPER=en_US.UTF-8       LC_NAME=C                 \n",
       " [9] LC_ADDRESS=C               LC_TELEPHONE=C            \n",
       "[11] LC_MEASUREMENT=en_US.UTF-8 LC_IDENTIFICATION=C       \n",
       "\n",
       "attached base packages:\n",
       "[1] parallel  stats     graphics  grDevices utils     datasets  methods  \n",
       "[8] base     \n",
       "\n",
       "other attached packages:\n",
       "[1] doParallel_1.0.16    iterators_1.0.13     foreach_1.5.1       \n",
       "[4] purrr_0.3.4          microbenchmark_1.4-7\n",
       "\n",
       "loaded via a namespace (and not attached):\n",
       " [1] codetools_0.2-18  fansi_0.5.0       digest_0.6.27     utf8_1.2.2       \n",
       " [5] crayon_1.4.1      IRdisplay_1.0     repr_1.1.3        lifecycle_1.0.0  \n",
       " [9] jsonlite_1.7.2    magrittr_2.0.1    evaluate_0.14     pillar_1.6.2     \n",
       "[13] rlang_0.4.11      uuid_0.1-4        vctrs_0.3.8       ellipsis_0.3.2   \n",
       "[17] IRkernel_1.2      tools_4.1.1       compiler_4.1.1    base64enc_0.1-3  \n",
       "[21] pbdZMQ_0.3-5      htmltools_0.5.1.1"
      ]
     },
     "metadata": {},
     "output_type": "display_data"
    }
   ],
   "source": [
    "sessionInfo()"
   ]
  }
 ],
 "metadata": {
  "kernelspec": {
   "display_name": "R",
   "language": "R",
   "name": "ir"
  },
  "language_info": {
   "codemirror_mode": "r",
   "file_extension": ".r",
   "mimetype": "text/x-r-source",
   "name": "R",
   "pygments_lexer": "r",
   "version": "4.1.1"
  }
 },
 "nbformat": 4,
 "nbformat_minor": 4
}
