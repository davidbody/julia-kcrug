{
 "cells": [
  {
   "cell_type": "markdown",
   "metadata": {},
   "source": [
    "# Poisson regression in R\n",
    "\n",
    "Example from [Introduction to Statistical Thinking, 2e](https://www.statlearning.com/)."
   ]
  },
  {
   "cell_type": "code",
   "execution_count": 1,
   "metadata": {},
   "outputs": [],
   "source": [
    "library(ISLR2)"
   ]
  },
  {
   "cell_type": "code",
   "execution_count": 2,
   "metadata": {},
   "outputs": [
    {
     "data": {
      "text/plain": [
       "     season           mnth           day              hr      \n",
       " Min.   :1.000   May    : 744   Min.   :  1.0   16     : 365  \n",
       " 1st Qu.:2.000   July   : 744   1st Qu.: 94.0   17     : 365  \n",
       " Median :3.000   Oct    : 743   Median :185.0   12     : 364  \n",
       " Mean   :2.514   Dec    : 741   Mean   :184.4   13     : 364  \n",
       " 3rd Qu.:3.000   Aug    : 731   3rd Qu.:275.0   14     : 364  \n",
       " Max.   :4.000   March  : 730   Max.   :365.0   15     : 364  \n",
       "                 (Other):4212                   (Other):6459  \n",
       "    holiday           weekday        workingday               weathersit  \n",
       " Min.   :0.00000   Min.   :0.000   Min.   :0.0000   clear          :5645  \n",
       " 1st Qu.:0.00000   1st Qu.:1.000   1st Qu.:0.0000   cloudy/misty   :2218  \n",
       " Median :0.00000   Median :3.000   Median :1.0000   light rain/snow: 781  \n",
       " Mean   :0.02765   Mean   :3.013   Mean   :0.6837   heavy rain/snow:   1  \n",
       " 3rd Qu.:0.00000   3rd Qu.:5.000   3rd Qu.:1.0000                         \n",
       " Max.   :1.00000   Max.   :6.000   Max.   :1.0000                         \n",
       "                                                                          \n",
       "      temp            atemp             hum           windspeed     \n",
       " Min.   :0.0200   Min.   :0.0000   Min.   :0.0000   Min.   :0.0000  \n",
       " 1st Qu.:0.3200   1st Qu.:0.3182   1st Qu.:0.4900   1st Qu.:0.1045  \n",
       " Median :0.5000   Median :0.4848   Median :0.6500   Median :0.1940  \n",
       " Mean   :0.4891   Mean   :0.4690   Mean   :0.6434   Mean   :0.1912  \n",
       " 3rd Qu.:0.6600   3rd Qu.:0.6212   3rd Qu.:0.8100   3rd Qu.:0.2836  \n",
       " Max.   :0.9600   Max.   :1.0000   Max.   :1.0000   Max.   :0.8507  \n",
       "                                                                    \n",
       "     casual        registered        bikers     \n",
       " Min.   :  0.0   Min.   :  0.0   Min.   :  1.0  \n",
       " 1st Qu.:  3.0   1st Qu.: 26.0   1st Qu.: 31.0  \n",
       " Median : 14.0   Median : 90.0   Median :109.0  \n",
       " Mean   : 28.6   Mean   :115.2   Mean   :143.8  \n",
       " 3rd Qu.: 38.0   3rd Qu.:168.0   3rd Qu.:211.0  \n",
       " Max.   :272.0   Max.   :567.0   Max.   :651.0  \n",
       "                                                "
      ]
     },
     "metadata": {},
     "output_type": "display_data"
    }
   ],
   "source": [
    "data(Bikeshare)\n",
    "summary(Bikeshare)"
   ]
  },
  {
   "cell_type": "code",
   "execution_count": 3,
   "metadata": {},
   "outputs": [],
   "source": [
    "mod_pois <- glm(bikers ~ mnth + hr + workingday + temp + weathersit,\n",
    "               data = Bikeshare, family = poisson)"
   ]
  },
  {
   "cell_type": "code",
   "execution_count": 4,
   "metadata": {},
   "outputs": [
    {
     "data": {
      "text/plain": [
       "\n",
       "Call:\n",
       "glm(formula = bikers ~ mnth + hr + workingday + temp + weathersit, \n",
       "    family = poisson, data = Bikeshare)\n",
       "\n",
       "Deviance Residuals: \n",
       "     Min        1Q    Median        3Q       Max  \n",
       "-20.7574   -3.3441   -0.6549    2.6999   21.9628  \n",
       "\n",
       "Coefficients:\n",
       "                           Estimate Std. Error  z value Pr(>|z|)    \n",
       "(Intercept)                2.693688   0.009720  277.124  < 2e-16 ***\n",
       "mnthFeb                    0.226046   0.006951   32.521  < 2e-16 ***\n",
       "mnthMarch                  0.376437   0.006691   56.263  < 2e-16 ***\n",
       "mnthApril                  0.691693   0.006987   98.996  < 2e-16 ***\n",
       "mnthMay                    0.910641   0.007436  122.469  < 2e-16 ***\n",
       "mnthJune                   0.893405   0.008242  108.402  < 2e-16 ***\n",
       "mnthJuly                   0.773787   0.008806   87.874  < 2e-16 ***\n",
       "mnthAug                    0.821341   0.008332   98.573  < 2e-16 ***\n",
       "mnthSept                   0.903663   0.007621  118.578  < 2e-16 ***\n",
       "mnthOct                    0.937743   0.006744  139.054  < 2e-16 ***\n",
       "mnthNov                    0.820433   0.006494  126.334  < 2e-16 ***\n",
       "mnthDec                    0.686850   0.006317  108.724  < 2e-16 ***\n",
       "hr1                       -0.471593   0.012999  -36.278  < 2e-16 ***\n",
       "hr2                       -0.808761   0.014646  -55.220  < 2e-16 ***\n",
       "hr3                       -1.443918   0.018843  -76.631  < 2e-16 ***\n",
       "hr4                       -2.076098   0.024796  -83.728  < 2e-16 ***\n",
       "hr5                       -1.060271   0.016075  -65.957  < 2e-16 ***\n",
       "hr6                        0.324498   0.010610   30.585  < 2e-16 ***\n",
       "hr7                        1.329567   0.009056  146.822  < 2e-16 ***\n",
       "hr8                        1.831313   0.008653  211.630  < 2e-16 ***\n",
       "hr9                        1.336155   0.009016  148.191  < 2e-16 ***\n",
       "hr10                       1.091238   0.009261  117.831  < 2e-16 ***\n",
       "hr11                       1.248507   0.009093  137.304  < 2e-16 ***\n",
       "hr12                       1.434028   0.008936  160.486  < 2e-16 ***\n",
       "hr13                       1.427951   0.008951  159.529  < 2e-16 ***\n",
       "hr14                       1.379296   0.008999  153.266  < 2e-16 ***\n",
       "hr15                       1.408149   0.008977  156.862  < 2e-16 ***\n",
       "hr16                       1.628688   0.008805  184.979  < 2e-16 ***\n",
       "hr17                       2.049021   0.008565  239.221  < 2e-16 ***\n",
       "hr18                       1.966668   0.008586  229.065  < 2e-16 ***\n",
       "hr19                       1.668409   0.008743  190.830  < 2e-16 ***\n",
       "hr20                       1.370588   0.008973  152.737  < 2e-16 ***\n",
       "hr21                       1.118568   0.009215  121.383  < 2e-16 ***\n",
       "hr22                       0.871879   0.009536   91.429  < 2e-16 ***\n",
       "hr23                       0.481387   0.010207   47.164  < 2e-16 ***\n",
       "workingday                 0.014665   0.001955    7.502 6.27e-14 ***\n",
       "temp                       0.785292   0.011475   68.434  < 2e-16 ***\n",
       "weathersitcloudy/misty    -0.075231   0.002179  -34.528  < 2e-16 ***\n",
       "weathersitlight rain/snow -0.575800   0.004058 -141.905  < 2e-16 ***\n",
       "weathersitheavy rain/snow -0.926287   0.166782   -5.554 2.79e-08 ***\n",
       "---\n",
       "Signif. codes:  0 ‘***’ 0.001 ‘**’ 0.01 ‘*’ 0.05 ‘.’ 0.1 ‘ ’ 1\n",
       "\n",
       "(Dispersion parameter for poisson family taken to be 1)\n",
       "\n",
       "    Null deviance: 1052921  on 8644  degrees of freedom\n",
       "Residual deviance:  228041  on 8605  degrees of freedom\n",
       "AIC: 281159\n",
       "\n",
       "Number of Fisher Scoring iterations: 5\n"
      ]
     },
     "metadata": {},
     "output_type": "display_data"
    }
   ],
   "source": [
    "summary(mod_pois)"
   ]
  }
 ],
 "metadata": {
  "kernelspec": {
   "display_name": "R",
   "language": "R",
   "name": "ir"
  },
  "language_info": {
   "codemirror_mode": "r",
   "file_extension": ".r",
   "mimetype": "text/x-r-source",
   "name": "R",
   "pygments_lexer": "r",
   "version": "4.1.1"
  }
 },
 "nbformat": 4,
 "nbformat_minor": 4
}
